{
  "nbformat": 4,
  "nbformat_minor": 0,
  "metadata": {
    "colab": {
      "provenance": []
    },
    "kernelspec": {
      "name": "python3",
      "display_name": "Python 3"
    },
    "language_info": {
      "name": "python"
    },
    "accelerator": "GPU",
    "gpuClass": "standard"
  },
  "cells": [
    {
      "cell_type": "code",
      "source": [
        "!git clone https://github.com/ultralytics/yolov5 --quiet  # clone\n",
        "%cd yolov5\n",
        "!pip install -r requirements.txt --quiet  # install"
      ],
      "metadata": {
        "colab": {
          "base_uri": "https://localhost:8080/"
        },
        "id": "YOiy81kF1N2X",
        "outputId": "8b676a6d-0745-4228-b4c5-82176a7b2597"
      },
      "execution_count": null,
      "outputs": [
        {
          "output_type": "stream",
          "name": "stdout",
          "text": [
            "/content/yolov5\n",
            "\u001b[K     |████████████████████████████████| 182 kB 6.3 MB/s \n",
            "\u001b[K     |████████████████████████████████| 62 kB 690 kB/s \n",
            "\u001b[K     |████████████████████████████████| 1.6 MB 57.8 MB/s \n",
            "\u001b[?25h"
          ]
        }
      ]
    },
    {
      "cell_type": "code",
      "execution_count": null,
      "metadata": {
        "id": "aPNMy3UWo9PC"
      },
      "outputs": [],
      "source": [
        "# Fetch images, labels, train.txt, val.txt, dataset\n",
        "!wget https://github.com/ch-hristov/p-id-symbols/raw/main/labels.zip --quiet\n",
        "!wget https://github.com/ch-hristov/p-id-symbols/raw/main/train.txt --quiet\n",
        "!wget https://github.com/ch-hristov/p-id-symbols/raw/main/val.txt --quiet\n",
        "!wget https://github.com/ch-hristov/p-id-symbols/raw/main/dataset.yaml --quiet\n",
        "!wget https://github.com/ch-hristov/p-id-symbols/raw/main/best.pt --quiet\n",
        "!wget https://github.com/ch-hristov/p-id-symbols/raw/main/images.zip --quiet\n",
        "!wget https://github.com/ch-hristov/p-id-symbols/raw/main/best.pt --quiet"
      ]
    },
    {
      "cell_type": "code",
      "source": [
        "import os\n",
        "!unzip -qq 'labels.zip' -d './labels'\n",
        "!unzip -qq 'images.zip' -d './images'"
      ],
      "metadata": {
        "colab": {
          "base_uri": "https://localhost:8080/"
        },
        "id": "sBlzLT124Stt",
        "outputId": "4b9880d8-5c48-43a9-8e52-95a706f65232"
      },
      "execution_count": null,
      "outputs": [
        {
          "output_type": "stream",
          "name": "stdout",
          "text": [
            "replace ./labels/134_0_3840.txt? [y]es, [n]o, [A]ll, [N]one, [r]ename: replace ./images/437_2560_1920.jpg? [y]es, [n]o, [A]ll, [N]one, [r]ename: "
          ]
        }
      ]
    },
    {
      "cell_type": "code",
      "source": [
        "!python ./train.py --img 672 --batch 8 --epochs 35 --data dataset.yaml --weights yolov5l.pt --multi-scale"
      ],
      "metadata": {
        "colab": {
          "base_uri": "https://localhost:8080/"
        },
        "id": "mEn5l4IL1O0W",
        "outputId": "dfeaaf02-94f1-413f-e479-e275ca1a413a"
      },
      "execution_count": null,
      "outputs": [
        {
          "output_type": "stream",
          "name": "stdout",
          "text": [
            "Traceback (most recent call last):\n",
            "  File \"./train.py\", line 42, in <module>\n",
            "    import val as validate  # for end-of-epoch mAP\n",
            "  File \"/content/yolov5/val.py\", line 38, in <module>\n",
            "    from models.common import DetectMultiBackend\n",
            "  File \"/content/yolov5/models/common.py\", line 20, in <module>\n",
            "    import pandas as pd\n",
            "  File \"/usr/local/lib/python3.8/dist-packages/pandas/__init__.py\", line 50, in <module>\n",
            "    from pandas.core.api import (\n",
            "  File \"/usr/local/lib/python3.8/dist-packages/pandas/core/api.py\", line 48, in <module>\n",
            "    from pandas.core.groupby import (\n",
            "  File \"/usr/local/lib/python3.8/dist-packages/pandas/core/groupby/__init__.py\", line 1, in <module>\n",
            "    from pandas.core.groupby.generic import (\n",
            "  File \"/usr/local/lib/python3.8/dist-packages/pandas/core/groupby/generic.py\", line 64, in <module>\n",
            "    from pandas.core.aggregation import (\n",
            "  File \"/usr/local/lib/python3.8/dist-packages/pandas/core/aggregation.py\", line 33, in <module>\n",
            "    from pandas.core.indexes.api import Index\n",
            "  File \"/usr/local/lib/python3.8/dist-packages/pandas/core/indexes/api.py\", line 29, in <module>\n",
            "    from pandas.core.indexes.range import RangeIndex\n",
            "  File \"<frozen importlib._bootstrap>\", line 991, in _find_and_load\n",
            "  File \"<frozen importlib._bootstrap>\", line 975, in _find_and_load_unlocked\n",
            "  File \"<frozen importlib._bootstrap>\", line 671, in _load_unlocked\n",
            "  File \"<frozen importlib._bootstrap_external>\", line 839, in exec_module\n",
            "  File \"<frozen importlib._bootstrap_external>\", line 971, in get_code\n",
            "  File \"<frozen importlib._bootstrap_external>\", line 640, in _compile_bytecode\n",
            "KeyboardInterrupt\n",
            "^C\n"
          ]
        }
      ]
    },
    {
      "cell_type": "code",
      "source": [
        "!python \"/content/yolov5/detect.py\" --weights \"/content/yolov5/best.pt\" --source \"https://instrumentationtools.com/wp-content/uploads/2016/09/instrumentationtools.com_piping-and-instrumentation-diagram.jpg\""
      ],
      "metadata": {
        "id": "qvE3JP9aGVBW",
        "colab": {
          "base_uri": "https://localhost:8080/"
        },
        "outputId": "a63e0e1f-3075-4407-e56f-2c7f5e8807b6"
      },
      "execution_count": null,
      "outputs": [
        {
          "output_type": "stream",
          "name": "stdout",
          "text": [
            "\u001b[34m\u001b[1mdetect: \u001b[0mweights=['/content/yolov5/best.pt'], source=https://instrumentationtools.com/wp-content/uploads/2016/09/instrumentationtools.com_piping-and-instrumentation-diagram.jpg, data=data/coco128.yaml, imgsz=[640, 640], conf_thres=0.25, iou_thres=0.45, max_det=1000, device=, view_img=False, save_txt=False, save_conf=False, save_crop=False, nosave=False, classes=None, agnostic_nms=False, augment=False, visualize=False, update=False, project=runs/detect, name=exp, exist_ok=False, line_thickness=3, hide_labels=False, hide_conf=False, half=False, dnn=False, vid_stride=1\n",
            "Downloading https://instrumentationtools.com/wp-content/uploads/2016/09/instrumentationtools.com_piping-and-instrumentation-diagram.jpg to instrumentationtools.com_piping-and-instrumentation-diagram.jpg...\n",
            "35.6kB [00:00, 2.57MB/s]\n",
            "YOLOv5 🚀 v7.0-21-ga1b6e79 Python-3.8.15 torch-1.12.1+cu113 CUDA:0 (Tesla T4, 15110MiB)\n",
            "\n",
            "Fusing layers... \n",
            "Model summary: 267 layers, 46280598 parameters, 0 gradients\n",
            "image 1/1 /content/yolov5/instrumentationtools.com_piping-and-instrumentation-diagram.jpg: 448x640 2 3s, 9 4s, 3 10s, 2 11s, 1 12, 2 13s, 1 21, 2 24s, 6 26s, 4 31s, 42.2ms\n",
            "Speed: 0.6ms pre-process, 42.2ms inference, 19.6ms NMS per image at shape (1, 3, 640, 640)\n",
            "Results saved to \u001b[1mruns/detect/exp8\u001b[0m\n"
          ]
        }
      ]
    }
  ]
}